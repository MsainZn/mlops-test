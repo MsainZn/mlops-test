{
 "cells": [
  {
   "cell_type": "code",
   "execution_count": 1,
   "metadata": {},
   "outputs": [
    {
     "name": "stdout",
     "output_type": "stream",
     "text": [
      "new note\n"
     ]
    }
   ],
   "source": [
    "print(\"new note\")"
   ]
  }
 ],
 "metadata": {
  "kernelspec": {
   "display_name": "mlops-learn",
   "language": "python",
   "name": "python3"
  },
  "language_info": {
   "codemirror_mode": {
    "name": "ipython",
    "version": 3
   },
   "file_extension": ".py",
   "mimetype": "text/x-python",
   "name": "python",
   "nbconvert_exporter": "python",
   "pygments_lexer": "ipython3",
   "version": "3.8.17"
  },
  "orig_nbformat": 4,
  "vscode": {
   "interpreter": {
    "hash": "948f51629828703dcde51079367ffae29f65827f56b3446a498288ed9cd5a38c"
   }
  }
 },
 "nbformat": 4,
 "nbformat_minor": 2
}
